{
 "cells": [
  {
   "cell_type": "code",
   "execution_count": 2,
   "id": "ced847a2",
   "metadata": {},
   "outputs": [],
   "source": [
    "import numpy as np\n",
    "import pandas as pd\n",
    "from matplotlib import pyplot as plt\n",
    "import units_convertion as uconv\n",
    "import propagation as prop\n",
    "import reflection as ref"
   ]
  },
  {
   "cell_type": "code",
   "execution_count": 11,
   "id": "78366b0b",
   "metadata": {},
   "outputs": [
    {
     "name": "stdout",
     "output_type": "stream",
     "text": [
      "rho = 168.1681984990781\n",
      "rho_0 = 356.73862061587056\n",
      "k = 75.65907443022536\n"
     ]
    }
   ],
   "source": [
    "eps_wall = 4.5\n",
    "d = 0.2\n",
    "f = 1.8e9\n",
    "w = f*2*np.pi\n",
    "\n",
    "rho = uconv.wave_res(eps=eps_wall)\n",
    "rho_0 = uconv.wave_res()\n",
    "\n",
    "k = uconv.wave_num(w, eps=eps_wall)\n",
    "\n",
    "print(\"rho = {}\".format(rho))\n",
    "print(\"rho_0 = {}\".format(rho_0))\n",
    "print(\"k = {}\".format(k))"
   ]
  },
  {
   "cell_type": "code",
   "execution_count": 9,
   "id": "20099cb2",
   "metadata": {},
   "outputs": [
    {
     "data": {
      "text/plain": [
       "array([[-0.839+0.000e+00j, -0.   -3.240e-03j],\n",
       "       [ 0.   -9.162e+01j, -0.839+0.000e+00j]])"
      ]
     },
     "execution_count": 9,
     "metadata": {},
     "output_type": "execute_result"
    }
   ],
   "source": [
    "M = ref.HE_mat(w, d, eps=eps_wall)\n",
    "M"
   ]
  },
  {
   "cell_type": "code",
   "execution_count": 18,
   "id": "cae27519",
   "metadata": {},
   "outputs": [
    {
     "name": "stdout",
     "output_type": "stream",
     "text": [
      "rh = (0.26407530013233566+0.3135476903535547j)\n",
      "th = (-0.6976477436625333+0.5875710233635968j)\n",
      "\n",
      "Rp = 0.16804791826603177\n",
      "Tp = 0.8319520817339683\n"
     ]
    }
   ],
   "source": [
    "rh, th = ref.HE_mat_RhTh(M)\n",
    "Rp = ref.Rh2Rp(rh)\n",
    "Tp = ref.Th2Tp(th, 0)\n",
    "\n",
    "print(\"rh = {}\".format(rh))\n",
    "print(\"th = {}\".format(th))\n",
    "print()\n",
    "print(\"Rp = {}\".format(Rp))\n",
    "print(\"Tp = {}\".format(Tp))"
   ]
  }
 ],
 "metadata": {
  "kernelspec": {
   "display_name": "Python 3 (ipykernel)",
   "language": "python",
   "name": "python3"
  },
  "language_info": {
   "codemirror_mode": {
    "name": "ipython",
    "version": 3
   },
   "file_extension": ".py",
   "mimetype": "text/x-python",
   "name": "python",
   "nbconvert_exporter": "python",
   "pygments_lexer": "ipython3",
   "version": "3.9.6"
  }
 },
 "nbformat": 4,
 "nbformat_minor": 5
}
